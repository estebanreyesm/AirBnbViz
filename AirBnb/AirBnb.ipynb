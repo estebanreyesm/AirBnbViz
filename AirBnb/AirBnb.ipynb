{
 "cells": [
  {
   "cell_type": "markdown",
   "metadata": {},
   "source": [
    "# Mapeo de datos AirBnb Santiago\n",
    "\n",
    "## Los datos fueron obtenidos desde http://insideairbnb.com/santiago/, para cualquier tipo de chequeo de datos\n",
    "\n",
    "### Este pequeño proyecto de Jupyter contempla las siguientes etapas\n",
    "\n",
    "* Importar las librerías\n",
    "* Leer los datos desde el Excel obtenido\n",
    "* Preparar los datos para trabajar con ellos\n",
    "> Principalmente se trabajará con la latitud, la longitud, el precio (variable price) y la url (listing_url)\n",
    "* Confeccionar el mapa"
   ]
  },
  {
   "cell_type": "markdown",
   "metadata": {},
   "source": [
    "#### La librería gmaps es la librería de Google Maps, con la cual se trabajará en esta oportunidad"
   ]
  },
  {
   "cell_type": "code",
   "execution_count": 1,
   "metadata": {},
   "outputs": [],
   "source": [
    "import pandas as pd\n",
    "import csv\n",
    "import gmaps\n",
    "import gmaps.datasets\n",
    "import numpy as np"
   ]
  },
  {
   "cell_type": "markdown",
   "metadata": {},
   "source": [
    "#### Con la siguiente librería e instrucción, evitaremos que los warnings aparezcan"
   ]
  },
  {
   "cell_type": "code",
   "execution_count": 2,
   "metadata": {},
   "outputs": [],
   "source": [
    "import warnings\n",
    "warnings.filterwarnings(\"ignore\")"
   ]
  },
  {
   "cell_type": "code",
   "execution_count": 3,
   "metadata": {},
   "outputs": [],
   "source": [
    "df = pd.read_csv (\"listings.csv\")"
   ]
  },
  {
   "cell_type": "code",
   "execution_count": 4,
   "metadata": {},
   "outputs": [],
   "source": [
    "lugares = df[[\"latitude\", \"longitude\", \"price\", \"listing_url\"]]"
   ]
  },
  {
   "cell_type": "markdown",
   "metadata": {},
   "source": [
    "#### En este trozo de código, se realiza una transformación de la variable price, limpiandola y transformándola a numérica"
   ]
  },
  {
   "cell_type": "code",
   "execution_count": 5,
   "metadata": {},
   "outputs": [],
   "source": [
    "lugares[\"price\"] = lugares[\"price\"].str.replace(\"$\", \"\")\n",
    "lugares[\"price\"] = lugares[\"price\"].str.replace(\".00\", \"\")\n",
    "lugares[\"price\"] = lugares[\"price\"].str.replace(\",\", \"\")\n",
    "lugares[\"price\"] = pd.to_numeric (lugares[\"price\"], errors=\"coerce\")"
   ]
  },
  {
   "cell_type": "markdown",
   "metadata": {},
   "source": [
    "#### Con esta instrucción, se indica cual es la API de Google Maps para poder trabajar"
   ]
  },
  {
   "cell_type": "code",
   "execution_count": 6,
   "metadata": {},
   "outputs": [],
   "source": [
    "gmaps.configure(api_key=\"AI..\")"
   ]
  },
  {
   "cell_type": "markdown",
   "metadata": {},
   "source": [
    "#### Se registraron valores extraños, como una propiedad con un precio de 180 millones, lo cual se chequeo en la página web de airbnb y el valor bordeaba los 65.000.\n",
    "#### Para efectos de este notebook, solo se considerarán los departamentos con un valor de hasta $500.000"
   ]
  },
  {
   "cell_type": "code",
   "execution_count": 7,
   "metadata": {},
   "outputs": [],
   "source": [
    "filtro = lugares[lugares[\"price\"] <= 500000][[\"latitude\", \"longitude\", \"price\", \"listing_url\"]]\n",
    "precio_maximo = filtro[\"price\"].max()"
   ]
  },
  {
   "cell_type": "markdown",
   "metadata": {},
   "source": [
    "#### Con estas instrucciones, se genera el mapa de las propiedades para renta en AirBnb, generando un mapa de calor de acuerdo al precio, en donde la intensidad máxima de calor será la calculada previamente en la variable precio_maximo"
   ]
  },
  {
   "cell_type": "code",
   "execution_count": 9,
   "metadata": {},
   "outputs": [
    {
     "data": {
      "application/vnd.jupyter.widget-view+json": {
       "model_id": "90b707bbb27843a997fe33f457248de9",
       "version_major": 2,
       "version_minor": 0
      },
      "text/plain": [
       "Figure(layout=FigureLayout(height='420px'))"
      ]
     },
     "metadata": {},
     "output_type": "display_data"
    }
   ],
   "source": [
    "fig = gmaps.figure(map_type=\"HYBRID\")\n",
    "mas_caros = gmaps.marker_layer(filtro[filtro[\"price\"] > 300000][[\"latitude\", \"longitude\"]],\n",
    "            info_box_content='<a href='+filtro[filtro[\"price\"] > 300000][\"listing_url\"].values+'>Detalle</a>')\n",
    "fig.add_layer(gmaps.heatmap_layer(filtro[[\"latitude\", \"longitude\"]], \n",
    "                                  weights=filtro[\"price\"], max_intensity=500000))\n",
    "fig.add_layer(mas_caros)\n",
    "fig"
   ]
  }
 ],
 "metadata": {
  "kernelspec": {
   "display_name": "Python 3",
   "language": "python",
   "name": "python3"
  },
  "language_info": {
   "codemirror_mode": {
    "name": "ipython",
    "version": 3
   },
   "file_extension": ".py",
   "mimetype": "text/x-python",
   "name": "python",
   "nbconvert_exporter": "python",
   "pygments_lexer": "ipython3",
   "version": "3.6.5"
  }
 },
 "nbformat": 4,
 "nbformat_minor": 2
}
